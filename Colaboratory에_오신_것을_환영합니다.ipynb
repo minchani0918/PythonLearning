{
  "cells": [
    {
      "cell_type": "markdown",
      "metadata": {
        "id": "view-in-github",
        "colab_type": "text"
      },
      "source": [
        "<a href=\"https://colab.research.google.com/github/minchani0918/PythonLearning/blob/main/Colaboratory%EC%97%90_%EC%98%A4%EC%8B%A0_%EA%B2%83%EC%9D%84_%ED%99%98%EC%98%81%ED%95%A9%EB%8B%88%EB%8B%A4.ipynb\" target=\"_parent\"><img src=\"https://colab.research.google.com/assets/colab-badge.svg\" alt=\"Open In Colab\"/></a>"
      ]
    },
    {
      "cell_type": "code",
      "source": [
        "!pip install bing-image-downloader"
      ],
      "metadata": {
        "id": "ojceOYsQ6vS_",
        "outputId": "a1ed719e-0a00-497d-bad2-405b253a5de6",
        "colab": {
          "base_uri": "https://localhost:8080/"
        }
      },
      "execution_count": 1,
      "outputs": [
        {
          "output_type": "stream",
          "name": "stdout",
          "text": [
            "Collecting bing-image-downloader\n",
            "  Downloading bing_image_downloader-1.1.2-py3-none-any.whl (5.9 kB)\n",
            "Installing collected packages: bing-image-downloader\n",
            "Successfully installed bing-image-downloader-1.1.2\n"
          ]
        }
      ]
    },
    {
      "cell_type": "code",
      "source": [
        "from bing_image_downloader import downloader # bing_image_downloader 모듈에서 downloader를 가져옴\n",
        "\n",
        "from pathlib import Path # pathlib 모듈에서 Path를 가져옴\n",
        "\n",
        "\n",
        "def download_images(keyword, num_images, file_name):\n",
        "\n",
        "  output_directory = \"images\" # 이미지를 저장할 폴더 이름\n",
        "\n",
        "\n",
        "\n",
        "  downloader.download(keyword, limit=num_images, output_dir=output_directory, adult_filter_off=True, force_replace=False, timeout=60)\n",
        "    # 이미지 다운로드\n",
        "\n",
        "\n",
        "\n",
        "  root = Path().cwd() / output_directory # 이미지 저장 폴더의 경로\n",
        "\n",
        "  downloaded_files = list(root.glob(\"*.*\")) # 폴더 내 모든 파일 가져오기\n",
        "\n",
        "  for i, file in enumerate(downloaded_files): # 다운로드된 각 파일에 대해 반복\n",
        "\n",
        "    extension = file.suffix # 파일 확장자\n",
        "\n",
        "    new_file_name = f\"{file_name}{i+1}{extension}\" # 새로운 파일 이름\n",
        "\n",
        "    new_file_path = root / new_file_name # 새로운 파일 경로\n",
        "\n",
        "    file.rename(new_file_path) # 파일 이름 변경\n"
      ],
      "metadata": {
        "id": "pJOc2kv17Vxm"
      },
      "execution_count": 2,
      "outputs": []
    },
    {
      "cell_type": "code",
      "source": [
        "keyword = \"파이썬 로고\" # 이미지 검색 키워드\n",
        "\n",
        "num_images = 30 # 다운로드할 이미지 수\n",
        "\n",
        "file_name = \"파이썬\" # 파일 이름\n"
      ],
      "metadata": {
        "id": "IAqpZYoz7rWI"
      },
      "execution_count": 3,
      "outputs": []
    },
    {
      "cell_type": "code",
      "source": [
        "from google.colab import drive\n",
        "drive.mount('/content/drive')\n"
      ],
      "metadata": {
        "id": "NTe6CKUo7xBH",
        "outputId": "fa24741a-e964-4958-f3c1-e8ada0acc263",
        "colab": {
          "base_uri": "https://localhost:8080/"
        }
      },
      "execution_count": 4,
      "outputs": [
        {
          "output_type": "stream",
          "name": "stdout",
          "text": [
            "Mounted at /content/drive\n"
          ]
        }
      ]
    },
    {
      "cell_type": "code",
      "source": [
        "download_images(keyword, num_images, file_name) # 이미지 다운로드\n"
      ],
      "metadata": {
        "id": "7M0tI_KS8Ang",
        "outputId": "826427a5-397a-4724-8470-90c0c4630477",
        "colab": {
          "base_uri": "https://localhost:8080/"
        }
      },
      "execution_count": 5,
      "outputs": [
        {
          "output_type": "stream",
          "name": "stdout",
          "text": [
            "[%] Downloading Images to /content/images/파이썬 로고\n",
            "\n",
            "\n",
            "[!!]Indexing page: 1\n",
            "\n",
            "[%] Indexed 31 Images on Page 1.\n",
            "\n",
            "===============================================\n",
            "\n",
            "[%] Downloading Image #1 from https://w7.pngwing.com/pngs/234/329/png-transparent-python-logo.png\n",
            "[%] File Downloaded !\n",
            "\n",
            "[%] Downloading Image #2 from https://velog.velcdn.com/images/richeberry/post/a819a7e7-e071-4a07-a3b4-7098d15674e3/logo-python.png\n",
            "[%] File Downloaded !\n",
            "\n",
            "[%] Downloading Image #3 from https://logodownload.org/wp-content/uploads/2019/10/python-logo-2.png\n",
            "[%] File Downloaded !\n",
            "\n",
            "[%] Downloading Image #4 from https://e7.pngegg.com/pngimages/593/15/png-clipart-python-others-text-logo.png\n",
            "[%] File Downloaded !\n",
            "\n",
            "[%] Downloading Image #5 from https://qph.fs.quoracdn.net/main-qimg-28cadbd02699c25a88e5c78d73c7babc\n",
            "[%] File Downloaded !\n",
            "\n",
            "[%] Downloading Image #6 from https://w7.pngwing.com/pngs/623/893/png-transparent-python-logo-python-software-logo-social-media-logo-logo-technology-logo-3d-icon.png\n",
            "[%] File Downloaded !\n",
            "\n",
            "[%] Downloading Image #7 from https://w7.pngwing.com/pngs/806/963/png-transparent-python-hd-logo.png\n",
            "[%] File Downloaded !\n",
            "\n",
            "[%] Downloading Image #8 from https://www.snugarchive.com/static/06cc3be354c9abae90b6ebc9469d7ff1/84d4b/featured-image-python-logo.png\n",
            "[%] File Downloaded !\n",
            "\n",
            "[%] Downloading Image #9 from https://wallpapers4screen.com/Uploads/20-8-2022/47546/thumb-python-logo-4k-minimalism-programming-languages-creative.jpg\n",
            "[%] File Downloaded !\n",
            "\n",
            "[%] Downloading Image #10 from http://greenart.co.kr/upimage/subject/group5_7.jpg\n",
            "[%] File Downloaded !\n",
            "\n",
            "[%] Downloading Image #11 from https://e1.pxfuel.com/desktop-wallpaper/403/946/desktop-wallpaper-python-logo-python.jpg\n",
            "[%] File Downloaded !\n",
            "\n",
            "[%] Downloading Image #12 from https://grepp-cloudfront.s3.amazonaws.com/programmers_imgs/learn/PEDU-945/sec-header-icon-python.png\n",
            "[%] File Downloaded !\n",
            "\n",
            "[%] Downloading Image #13 from https://cdn.inflearn.com/public/courses/328054/cover/0aa0cabe-3285-42a4-b663-1d5a90ebbae9/328054-eng.png\n",
            "[%] File Downloaded !\n",
            "\n",
            "[%] Downloading Image #14 from https://e7.pngegg.com/pngimages/96/215/png-clipart-white-and-purple-logo-electric-blue-purple-symbol-python-purple-blue.png\n",
            "[%] File Downloaded !\n",
            "\n",
            "[%] Downloading Image #15 from https://img.lovepik.com/element/45000/8140.png_860.png\n",
            "[%] File Downloaded !\n",
            "\n",
            "[%] Downloading Image #16 from https://i.ytimg.com/vi/kWiCuklohdY/maxresdefault.jpg\n",
            "[%] File Downloaded !\n",
            "\n",
            "[%] Downloading Image #17 from https://cdn.inflearn.com/public/files/posts/84db7dc0-e93d-4db8-b4d9-9d63c1fd1f74/blob\n",
            "[%] File Downloaded !\n",
            "\n",
            "[%] Downloading Image #18 from https://images.velog.io/images/717lumos/post/b465542f-c47a-4ed2-bad6-239796fed000/1200px-Python_and_Qt.svg.png\n",
            "[%] File Downloaded !\n",
            "\n",
            "[%] Downloading Image #19 from https://cdn.inflearn.com/public/files/courses/326014/912b97e9-cecd-42c1-8256-5d109a764fe5/326014-0.png\n",
            "[%] File Downloaded !\n",
            "\n",
            "[%] Downloading Image #20 from https://www.affmu.com/uploads/article/59123/bfRIeTS4V3kmJnx7.jpg\n",
            "[%] File Downloaded !\n",
            "\n",
            "[%] Downloading Image #21 from https://storage.googleapis.com/static.fastcampus.co.kr/prod/uploads/202105/120908-396/main.png\n",
            "[%] File Downloaded !\n",
            "\n",
            "[%] Downloading Image #22 from https://cdn.inflearn.com/public/courses/324145/course_cover/b03d9a4a-f533-4f41-84a7-31f22b362b1e/I_O_python_0.png\n",
            "[%] File Downloaded !\n",
            "\n",
            "[%] Downloading Image #23 from https://cdn.inflearn.com/public/courses/328974/cover/412085a5-3809-4b34-bbd7-9ed55769f976/파이썬 터틀 프로젝트 1편 인프런 썸네일.png\n",
            "[!] Issue getting: https://cdn.inflearn.com/public/courses/328974/cover/412085a5-3809-4b34-bbd7-9ed55769f976/파이썬 터틀 프로젝트 1편 인프런 썸네일.png\n",
            "[!] Error:: URL can't contain control characters. '/public/courses/328974/cover/412085a5-3809-4b34-bbd7-9ed55769f976/파이썬 터틀 프로젝트 1편 인프런 썸네일.png' (found at least ' ')\n",
            "[%] Downloading Image #23 from https://cdn.inflearn.com/public/courses/324595/cover/4a9cc839-a6a3-4445-b73d-8bc54a2553b9/324595-eng.png\n",
            "[%] File Downloaded !\n",
            "\n",
            "[%] Downloading Image #24 from https://cdn.inflearn.com/public/files/courses/326564/98bca2f0-c45b-4972-a0d1-621a13a928bc/화살표_배경색_파이썬.png\n",
            "[!] Issue getting: https://cdn.inflearn.com/public/files/courses/326564/98bca2f0-c45b-4972-a0d1-621a13a928bc/화살표_배경색_파이썬.png\n",
            "[!] Error:: 'ascii' codec can't encode characters in position 70-72: ordinal not in range(128)\n",
            "[%] Downloading Image #24 from https://w7.pngwing.com/pngs/858/683/png-transparent-computer-icons-python-programming-language-others-angle-text-logo.png\n",
            "[%] File Downloaded !\n",
            "\n",
            "[%] Downloading Image #25 from https://media.istockphoto.com/id/1501782958/ko/벡터/볼-파이썬-로고.jpg?s=170667a&amp;w=0&amp;k=20&amp;c=I9Vmdh-xccRTg4SDExlaiY5XuE6P4sZOHWFsFmxCWSY=\n",
            "[!] Issue getting: https://media.istockphoto.com/id/1501782958/ko/벡터/볼-파이썬-로고.jpg?s=170667a&amp;w=0&amp;k=20&amp;c=I9Vmdh-xccRTg4SDExlaiY5XuE6P4sZOHWFsFmxCWSY=\n",
            "[!] Error:: 'ascii' codec can't encode characters in position 22-23: ordinal not in range(128)\n",
            "[%] Downloading Image #25 from https://cdn.inflearn.com/public/courses/324835/cover/d7c5e8eb-242e-428f-9c27-0e19748fdc82/thumbnail_코자 python_1200x781.jpg\n",
            "[!] Issue getting: https://cdn.inflearn.com/public/courses/324835/cover/d7c5e8eb-242e-428f-9c27-0e19748fdc82/thumbnail_코자 python_1200x781.jpg\n",
            "[!] Error:: URL can't contain control characters. '/public/courses/324835/cover/d7c5e8eb-242e-428f-9c27-0e19748fdc82/thumbnail_코자 python_1200x781.jpg' (found at least ' ')\n",
            "[%] Downloading Image #25 from https://cdn.inflearn.com/public/files/courses/326318/c0257289-4038-4402-88cd-8be7b074b7a9/326564-0.png\n",
            "[%] File Downloaded !\n",
            "\n",
            "[%] Downloading Image #26 from https://cdn.inflearn.com/public/files/courses/324595/636be505-9f19-4029-8423-e925cd11ef9e/qrcode.gif\n",
            "[%] File Downloaded !\n",
            "\n",
            "[%] Downloading Image #27 from https://www.bing.com/th/id/OGC.3c067bd889cdcd010c5a9a88b25566c6?pid=1.7&amp;rurl=https%3a%2f%2fcdn.inflearn.com%2fpublic%2ffiles%2fcourses%2f324595%2f636be505-9f19-4029-8423-e925cd11ef9e%2fqrcode.gif&amp;ehk=SW5DwOanzPDfQZvh4UwciibzR%2fcSbiFeJbqkGYuNePc%3d\n",
            "[!] Issue getting: https://www.bing.com/th/id/OGC.3c067bd889cdcd010c5a9a88b25566c6?pid=1.7&amp;rurl=https%3a%2f%2fcdn.inflearn.com%2fpublic%2ffiles%2fcourses%2f324595%2f636be505-9f19-4029-8423-e925cd11ef9e%2fqrcode.gif&amp;ehk=SW5DwOanzPDfQZvh4UwciibzR%2fcSbiFeJbqkGYuNePc%3d\n",
            "[!] Error:: HTTP Error 404: Not Found\n",
            "\n",
            "\n",
            "[!!]Indexing page: 2\n",
            "\n",
            "[%] Indexed 37 Images on Page 2.\n",
            "\n",
            "===============================================\n",
            "\n",
            "[%] Downloading Image #27 from https://i.ytimg.com/vi/c-9TUygchmw/maxresdefault.jpg\n",
            "[%] File Downloaded !\n",
            "\n",
            "[%] Downloading Image #28 from https://cdn.inflearn.com/public/files/posts/99e33265-51d9-4021-86ee-60ca16ddb9d7/blob\n",
            "[%] File Downloaded !\n",
            "\n",
            "[%] Downloading Image #29 from https://e0.pxfuel.com/wallpapers/962/582/desktop-wallpaper-python-programming-language-at.jpg\n",
            "[%] File Downloaded !\n",
            "\n",
            "[%] Downloading Image #30 from https://mir-s3-cdn-cf.behance.net/project_modules/2800_opt_1/4e105f96750899.5eb54f337fb8e.png\n",
            "[%] File Downloaded !\n",
            "\n",
            "\n",
            "\n",
            "[%] Done. Downloaded 30 images.\n"
          ]
        }
      ]
    },
    {
      "cell_type": "code",
      "source": [
        "import shutil\n",
        "\n",
        "def compress_folder(folder_path, output_path):\n",
        "  shutil.make_archive(output_path, 'zip', folder_path)\n",
        "\n",
        "# 이미지 저장 폴더 압축\n",
        "folder_path = \"images\"\n",
        "output_path = \"images\"\n",
        "compress_folder(folder_path, output_path)\n"
      ],
      "metadata": {
        "id": "_DpwZiB78UEI"
      },
      "execution_count": 7,
      "outputs": []
    }
  ],
  "metadata": {
    "colab": {
      "name": "Colaboratory에 오신 것을 환영합니다",
      "provenance": [],
      "include_colab_link": true
    },
    "kernelspec": {
      "display_name": "Python 3",
      "name": "python3"
    }
  },
  "nbformat": 4,
  "nbformat_minor": 0
}